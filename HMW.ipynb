{
 "cells": [
  {
   "cell_type": "code",
   "execution_count": 11,
   "metadata": {},
   "outputs": [
    {
     "name": "stdout",
     "output_type": "stream",
     "text": [
      "HCO3    0\n",
      "Na      0\n",
      "Mg      0\n",
      "Cl      0\n",
      "K       0\n",
      "dtype: int64\n",
      "0\n",
      "(57, 5) (15, 5) (57,) (15,)\n"
     ]
    }
   ],
   "source": [
    "import pandas as pd\n",
    "import numpy as np\n",
    "from sklearn.model_selection import train_test_split\n",
    "from sklearn.preprocessing import MinMaxScaler\n",
    "\n",
    "# Load the dataset\n",
    "data = pd.read_excel('data/Data_.xlsx')\n",
    "\n",
    "# Split the data into features (X) and target (y)\n",
    "X = data.drop(columns=['EC'])\n",
    "y = data['EC']\n",
    "\n",
    "# Check for missing values and handle them\n",
    "print(X.isnull().sum())  # Should be zero\n",
    "print(y.isnull().sum())  # Should be zero\n",
    "\n",
    "# Split the data into training and testing sets\n",
    "X_train, X_test, y_train, y_test = train_test_split(X, y, test_size=0.2, random_state=42)\n",
    "\n",
    "# Scale the data\n",
    "scaler = MinMaxScaler()\n",
    "X_train_scaled = scaler.fit_transform(X_train)\n",
    "X_test_scaled = scaler.transform(X_test)\n",
    "\n",
    "# Verify shapes\n",
    "print(X_train_scaled.shape, X_test_scaled.shape, y_train.shape, y_test.shape)\n"
   ]
  },
  {
   "cell_type": "code",
   "execution_count": 12,
   "metadata": {},
   "outputs": [
    {
     "name": "stdout",
     "output_type": "stream",
     "text": [
      "Training MSE: 8057933.438965175, Training R²: 0.003833428437368669\n",
      "Testing MSE: 5440275.988880813, Testing R²: -0.07328670389369707\n"
     ]
    }
   ],
   "source": [
    "import statsmodels.api as sm\n",
    "\n",
    "# Add a constant term for intercept\n",
    "X_train_scaled = sm.add_constant(X_train_scaled)\n",
    "X_test_scaled = sm.add_constant(X_test_scaled)\n",
    "\n",
    "# Define a simple nonlinear model (this is just an example)\n",
    "def nonlinear_model(params, x):\n",
    "    # params contains the parameters of the model\n",
    "    # x contains the independent variables\n",
    "    return params[0] + params[1] * np.sin(x[:, 0]) + params[2] * np.exp(x[:, 1])\n",
    "\n",
    "# Define residuals for optimization\n",
    "def residuals(params, y, x):\n",
    "    return y - nonlinear_model(params, x)\n",
    "\n",
    "# Initial guess for the parameters\n",
    "initial_params = np.ones(X_train_scaled.shape[1])\n",
    "\n",
    "# Fit the model\n",
    "from scipy.optimize import least_squares\n",
    "result = least_squares(residuals, initial_params, args=(y_train, X_train_scaled))\n",
    "\n",
    "# Extract fitted parameters\n",
    "fitted_params = result.x\n",
    "\n",
    "# Make predictions\n",
    "y_train_pred_hwm = nonlinear_model(fitted_params, X_train_scaled)\n",
    "y_test_pred_hwm = nonlinear_model(fitted_params, X_test_scaled)\n",
    "\n",
    "# Evaluate the model\n",
    "from sklearn.metrics import mean_squared_error, r2_score\n",
    "\n",
    "mse_train_hwm = mean_squared_error(y_train, y_train_pred_hwm)\n",
    "r2_train_hwm = r2_score(y_train, y_train_pred_hwm)\n",
    "mse_test_hwm = mean_squared_error(y_test, y_test_pred_hwm)\n",
    "r2_test_hwm = r2_score(y_test, y_test_pred_hwm)\n",
    "\n",
    "print(f'Training MSE: {mse_train_hwm}, Training R²: {r2_train_hwm}')\n",
    "print(f'Testing MSE: {mse_test_hwm}, Testing R²: {r2_test_hwm}')\n"
   ]
  },
  {
   "cell_type": "code",
   "execution_count": 14,
   "metadata": {},
   "outputs": [],
   "source": [
    "# Create a DataFrame to save actual vs predicted values\n",
    "train_results_hwm = pd.DataFrame({\n",
    "    'Actual': y_train,\n",
    "    'Predicted': y_train_pred_hwm\n",
    "})\n",
    "\n",
    "test_results_hwm = pd.DataFrame({\n",
    "    'Actual': y_test,\n",
    "    'Predicted': y_test_pred_hwm\n",
    "})\n",
    "\n",
    "# Save to Excel\n",
    "with pd.ExcelWriter('results/hwm_actual_vs_predicted.xlsx') as writer:\n",
    "    train_results_hwm.to_excel(writer, sheet_name='Train', index=False)\n",
    "    test_results_hwm.to_excel(writer, sheet_name='Test', index=False)\n"
   ]
  },
  {
   "cell_type": "code",
   "execution_count": null,
   "metadata": {},
   "outputs": [],
   "source": []
  }
 ],
 "metadata": {
  "kernelspec": {
   "display_name": "xaienv",
   "language": "python",
   "name": "python3"
  },
  "language_info": {
   "codemirror_mode": {
    "name": "ipython",
    "version": 3
   },
   "file_extension": ".py",
   "mimetype": "text/x-python",
   "name": "python",
   "nbconvert_exporter": "python",
   "pygments_lexer": "ipython3",
   "version": "3.8.19"
  }
 },
 "nbformat": 4,
 "nbformat_minor": 2
}
